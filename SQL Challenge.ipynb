{
 "cells": [
  {
   "cell_type": "markdown",
   "metadata": {},
   "source": [
    "### SQL Challenge"
   ]
  },
  {
   "cell_type": "markdown",
   "metadata": {},
   "source": [
    "##### 1. Build a query to count the number of loans per customer"
   ]
  },
  {
   "cell_type": "markdown",
   "metadata": {},
   "source": [
    "SELECT custid, count(loanid)\n",
    "FROM all_loans\n",
    "GROUP BY custid\n",
    "ORDER BY count(loanid) desc, custid;"
   ]
  },
  {
   "cell_type": "markdown",
   "metadata": {},
   "source": [
    "##### 2. Write a query to identify if a customer had more than one loan at the same time"
   ]
  },
  {
   "cell_type": "markdown",
   "metadata": {},
   "source": [
    "SELECT a.custid\n",
    "FROM all_loans a\n",
    ", all_loans b\n",
    "where a.custid=b.custid\n",
    "and b.loanid>a.loanid\n",
    "and (b.approvedate <a.payoffdate or a.approvedate < a.writeoffdate)\n",
    "group by a.custid;"
   ]
  },
  {
   "cell_type": "markdown",
   "metadata": {},
   "source": [
    "##### 3a. Write a query to calculate how much payment is received from each customer in the 1st 6 months of them being a customer (across loans, if multiple loans are taken within their 1st 6 months).\n"
   ]
  },
  {
   "cell_type": "markdown",
   "metadata": {},
   "source": [
    "select l.custid\n",
    "\t,sum(h.amount_paid)+sum(h.principal_paid) as total_paid\n",
    "from all_loans l\n",
    "join all_loanhist h\n",
    "on l.loanid=h.loanid\n",
    "where eowdate <= l.approvedate + INTERVAL '6 months'\n",
    "group by l.custid;"
   ]
  },
  {
   "cell_type": "markdown",
   "metadata": {},
   "source": [
    "##### 3b. Also provide what % of principal was collected in the 1st 6 months from the customer."
   ]
  },
  {
   "cell_type": "markdown",
   "metadata": {},
   "source": [
    "select custid, loanid,\n",
    "\tround((a.principal/a.total_loan)::numeric,2)*100 as perc_paid\n",
    "from (\n",
    "select l.custid, l.loanid,sum(h.principal_paid) as principal\n",
    ", (select sum(l1.amount)\n",
    "\t   from all_loans l1 where l1.custid=l.custid\n",
    "   \t\tand l1.loanid=l.loanid\n",
    "\t   group by l1.custid) as total_loan\n",
    "from all_loans l\n",
    "join all_loanhist h\n",
    "on l.loanid=h.loanid\n",
    "where h.eowdate <= l.approvedate + INTERVAL '6 months'\n",
    "group by l.custid,l.loanid) a\n",
    "--group by custid, loanid\n",
    ";"
   ]
  },
  {
   "cell_type": "markdown",
   "metadata": {},
   "source": [
    "##### 4. Calculate the average rate of missing 1st payment by month of approvedate of loan."
   ]
  },
  {
   "cell_type": "markdown",
   "metadata": {},
   "source": [
    "select (a.pymnt_miss*100/a.total) as miss_rte_pct\n",
    "from(\n",
    "select count(l.loanid) as total\n",
    ", (select count(l1.loanid) from all_loans l1\n",
    "  where l1.loanid not in (select distinct loanid from all_loanhist\n",
    "\t\t\t\t\t\t where eowdate <= l1.approvedate + INTERVAL '1 month')) as pymnt_miss\n",
    " from all_loans l\n",
    "\t) a;"
   ]
  },
  {
   "cell_type": "markdown",
   "metadata": {},
   "source": [
    "###### 5. Calculate the top 3 most profitable customers in the tables. Profitability is defined as percentage of total paid of loan amount."
   ]
  },
  {
   "cell_type": "markdown",
   "metadata": {},
   "source": [
    "select a.custid, round((a.total_paid/a.total_loan)::numeric,2) as profitability\n",
    "from(\n",
    "select l.custid\n",
    "\t,sum(h.amount_paid) as total_paid\n",
    "\t, (select sum(l1.amount)\n",
    "\t   from all_loans l1 where l1.custid=l.custid\n",
    "\t   group by l1.custid) as total_loan\n",
    "from all_loans l\n",
    "join all_loanhist h\n",
    "on l.loanid=h.loanid\n",
    "group by l.custid)a\n",
    "order by profitability desc\n",
    "limit 3\n",
    ";"
   ]
  }
 ],
 "metadata": {
  "kernelspec": {
   "display_name": "Python 2",
   "language": "python",
   "name": "python2"
  },
  "language_info": {
   "codemirror_mode": {
    "name": "ipython",
    "version": 2
   },
   "file_extension": ".py",
   "mimetype": "text/x-python",
   "name": "python",
   "nbconvert_exporter": "python",
   "pygments_lexer": "ipython2",
   "version": "2.7.14"
  }
 },
 "nbformat": 4,
 "nbformat_minor": 2
}
